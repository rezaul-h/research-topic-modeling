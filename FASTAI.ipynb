{
 "cells": [
  {
   "cell_type": "code",
   "execution_count": 3,
   "id": "1884629b",
   "metadata": {
    "id": "1884629b"
   },
   "outputs": [],
   "source": [
    "import pandas as pd\n",
    "import numpy as np\n",
    "import matplotlib.pyplot as plt\n",
    "import seaborn as sns\n",
    "sns.set_style('darkgrid')\n",
    "import os\n",
    "from fastai.text import *\n",
    "from fastai.imports import *\n",
    "from fastai.text import *\n",
    "from fastai import *\n",
    "import warnings\n",
    "warnings.filterwarnings(\"ignore\")"
   ]
  },
  {
   "cell_type": "code",
   "execution_count": 4,
   "id": "fe1dc158",
   "metadata": {
    "id": "fe1dc158"
   },
   "outputs": [],
   "source": [
    "train = pd.read_csv('data/train_df.csv')\n",
    "test = pd.read_csv('data/final dataset/test_df.csv')"
   ]
  },
  {
   "cell_type": "code",
   "execution_count": 5,
   "id": "467bec56",
   "metadata": {
    "id": "467bec56"
   },
   "outputs": [
    {
     "name": "stdout",
     "output_type": "stream",
     "text": [
      "<class 'pandas.core.frame.DataFrame'>\n",
      "RangeIndex: 14004 entries, 0 to 14003\n",
      "Data columns (total 32 columns):\n",
      " #   Column                                        Non-Null Count  Dtype \n",
      "---  ------                                        --------------  ----- \n",
      " 0   id                                            14004 non-null  int64 \n",
      " 1   ABSTRACT                                      14004 non-null  object\n",
      " 2   Computer Science                              14004 non-null  int64 \n",
      " 3   Mathematics                                   14004 non-null  int64 \n",
      " 4   Physics                                       14004 non-null  int64 \n",
      " 5   Statistics                                    14004 non-null  int64 \n",
      " 6   Analysis of PDEs                              14004 non-null  int64 \n",
      " 7   Applications                                  14004 non-null  int64 \n",
      " 8   Artificial Intelligence                       14004 non-null  int64 \n",
      " 9   Astrophysics of Galaxies                      14004 non-null  int64 \n",
      " 10  Computation and Language                      14004 non-null  int64 \n",
      " 11  Computer Vision and Pattern Recognition       14004 non-null  int64 \n",
      " 12  Cosmology and Nongalactic Astrophysics        14004 non-null  int64 \n",
      " 13  Data Structures and Algorithms                14004 non-null  int64 \n",
      " 14  Differential Geometry                         14004 non-null  int64 \n",
      " 15  Earth and Planetary Astrophysics              14004 non-null  int64 \n",
      " 16  Fluid Dynamics                                14004 non-null  int64 \n",
      " 17  Information Theory                            14004 non-null  int64 \n",
      " 18  Instrumentation and Methods for Astrophysics  14004 non-null  int64 \n",
      " 19  Machine Learning                              14004 non-null  int64 \n",
      " 20  Materials Science                             14004 non-null  int64 \n",
      " 21  Methodology                                   14004 non-null  int64 \n",
      " 22  Number Theory                                 14004 non-null  int64 \n",
      " 23  Optimization and Control                      14004 non-null  int64 \n",
      " 24  Representation Theory                         14004 non-null  int64 \n",
      " 25  Robotics                                      14004 non-null  int64 \n",
      " 26  Social and Information Networks               14004 non-null  int64 \n",
      " 27  Statistics Theory                             14004 non-null  int64 \n",
      " 28  Strongly Correlated Electrons                 14004 non-null  int64 \n",
      " 29  Superconductivity                             14004 non-null  int64 \n",
      " 30  Systems and Control                           14004 non-null  int64 \n",
      " 31  cleaned_text                                  14004 non-null  object\n",
      "dtypes: int64(30), object(2)\n",
      "memory usage: 3.4+ MB\n",
      "None\n",
      "<class 'pandas.core.frame.DataFrame'>\n",
      "RangeIndex: 6002 entries, 0 to 6001\n",
      "Data columns (total 7 columns):\n",
      " #   Column            Non-Null Count  Dtype \n",
      "---  ------            --------------  ----- \n",
      " 0   id                6002 non-null   int64 \n",
      " 1   ABSTRACT          6002 non-null   object\n",
      " 2   Computer Science  6002 non-null   int64 \n",
      " 3   Mathematics       6002 non-null   int64 \n",
      " 4   Physics           6002 non-null   int64 \n",
      " 5   Statistics        6002 non-null   int64 \n",
      " 6   cleaned_text      6002 non-null   object\n",
      "dtypes: int64(5), object(2)\n",
      "memory usage: 328.4+ KB\n",
      "None\n"
     ]
    }
   ],
   "source": [
    "print(train.info())\n",
    "print(test.info())"
   ]
  },
  {
   "cell_type": "code",
   "execution_count": 6,
   "id": "b1a6e118",
   "metadata": {
    "id": "b1a6e118"
   },
   "outputs": [
    {
     "data": {
      "text/plain": [
       "'F:\\\\Ml files\\\\research topic modeling'"
      ]
     },
     "execution_count": 6,
     "metadata": {},
     "output_type": "execute_result"
    }
   ],
   "source": [
    "import os \n",
    "cwd = os.getcwd()\n",
    "cwd"
   ]
  },
  {
   "cell_type": "code",
   "execution_count": 7,
   "id": "dce3c57b",
   "metadata": {
    "id": "dce3c57b"
   },
   "outputs": [
    {
     "data": {
      "text/html": [
       "<div>\n",
       "<style scoped>\n",
       "    .dataframe tbody tr th:only-of-type {\n",
       "        vertical-align: middle;\n",
       "    }\n",
       "\n",
       "    .dataframe tbody tr th {\n",
       "        vertical-align: top;\n",
       "    }\n",
       "\n",
       "    .dataframe thead th {\n",
       "        text-align: right;\n",
       "    }\n",
       "</style>\n",
       "<table border=\"1\" class=\"dataframe\">\n",
       "  <thead>\n",
       "    <tr style=\"text-align: right;\">\n",
       "      <th></th>\n",
       "      <th>id</th>\n",
       "      <th>Computer Science</th>\n",
       "      <th>Mathematics</th>\n",
       "      <th>Physics</th>\n",
       "      <th>Statistics</th>\n",
       "      <th>cleaned_text</th>\n",
       "    </tr>\n",
       "  </thead>\n",
       "  <tbody>\n",
       "    <tr>\n",
       "      <th>0</th>\n",
       "      <td>1824</td>\n",
       "      <td>0</td>\n",
       "      <td>0</td>\n",
       "      <td>1</td>\n",
       "      <td>0</td>\n",
       "      <td>evergrowing datasets inside observational astr...</td>\n",
       "    </tr>\n",
       "    <tr>\n",
       "      <th>1</th>\n",
       "      <td>3094</td>\n",
       "      <td>1</td>\n",
       "      <td>0</td>\n",
       "      <td>0</td>\n",
       "      <td>0</td>\n",
       "      <td>propose framework consider optimal tmatchings ...</td>\n",
       "    </tr>\n",
       "    <tr>\n",
       "      <th>2</th>\n",
       "      <td>8463</td>\n",
       "      <td>0</td>\n",
       "      <td>0</td>\n",
       "      <td>1</td>\n",
       "      <td>0</td>\n",
       "      <td>nanostructures open shell transition metal mol...</td>\n",
       "    </tr>\n",
       "    <tr>\n",
       "      <th>3</th>\n",
       "      <td>2082</td>\n",
       "      <td>0</td>\n",
       "      <td>0</td>\n",
       "      <td>1</td>\n",
       "      <td>0</td>\n",
       "      <td>star selfgravitating fluid inside pressure buo...</td>\n",
       "    </tr>\n",
       "    <tr>\n",
       "      <th>4</th>\n",
       "      <td>8687</td>\n",
       "      <td>1</td>\n",
       "      <td>0</td>\n",
       "      <td>0</td>\n",
       "      <td>0</td>\n",
       "      <td>deep neural perception control network likely ...</td>\n",
       "    </tr>\n",
       "  </tbody>\n",
       "</table>\n",
       "</div>"
      ],
      "text/plain": [
       "     id  Computer Science  Mathematics  Physics  Statistics  \\\n",
       "0  1824                 0            0        1           0   \n",
       "1  3094                 1            0        0           0   \n",
       "2  8463                 0            0        1           0   \n",
       "3  2082                 0            0        1           0   \n",
       "4  8687                 1            0        0           0   \n",
       "\n",
       "                                        cleaned_text  \n",
       "0  evergrowing datasets inside observational astr...  \n",
       "1  propose framework consider optimal tmatchings ...  \n",
       "2  nanostructures open shell transition metal mol...  \n",
       "3  star selfgravitating fluid inside pressure buo...  \n",
       "4  deep neural perception control network likely ...  "
      ]
     },
     "execution_count": 7,
     "metadata": {},
     "output_type": "execute_result"
    }
   ],
   "source": [
    "## dropped multilabeled columns\n",
    "cols = ['ABSTRACT', 'Analysis of PDEs', 'Applications',\n",
    "       'Artificial Intelligence', 'Astrophysics of Galaxies',\n",
    "       'Computation and Language', 'Computer Vision and Pattern Recognition',\n",
    "       'Cosmology and Nongalactic Astrophysics',\n",
    "       'Data Structures and Algorithms', 'Differential Geometry',\n",
    "       'Earth and Planetary Astrophysics', 'Fluid Dynamics',\n",
    "       'Information Theory', 'Instrumentation and Methods for Astrophysics',\n",
    "       'Machine Learning', 'Materials Science', 'Methodology', 'Number Theory',\n",
    "       'Optimization and Control', 'Representation Theory', 'Robotics',\n",
    "       'Social and Information Networks', 'Statistics Theory',\n",
    "       'Strongly Correlated Electrons', 'Superconductivity',\n",
    "       'Systems and Control']\n",
    "train = train.drop(columns = cols)\n",
    "train.head()\n"
   ]
  },
  {
   "cell_type": "code",
   "execution_count": 8,
   "id": "1c1b0b1e",
   "metadata": {
    "id": "1c1b0b1e"
   },
   "outputs": [
    {
     "name": "stdout",
     "output_type": "stream",
     "text": [
      "Shape of Training data (14004, 6)\n",
      "Shape of Testing data (6002, 7)\n"
     ]
    }
   ],
   "source": [
    "print('Shape of Training data {}'.format(train.shape))\n",
    "print('Shape of Testing data {}'.format(test.shape))\n"
   ]
  },
  {
   "cell_type": "code",
   "execution_count": 9,
   "id": "-UUjsaAAy2C2",
   "metadata": {
    "id": "-UUjsaAAy2C2"
   },
   "outputs": [
    {
     "data": {
      "text/html": [
       "<div>\n",
       "<style scoped>\n",
       "    .dataframe tbody tr th:only-of-type {\n",
       "        vertical-align: middle;\n",
       "    }\n",
       "\n",
       "    .dataframe tbody tr th {\n",
       "        vertical-align: top;\n",
       "    }\n",
       "\n",
       "    .dataframe thead th {\n",
       "        text-align: right;\n",
       "    }\n",
       "</style>\n",
       "<table border=\"1\" class=\"dataframe\">\n",
       "  <thead>\n",
       "    <tr style=\"text-align: right;\">\n",
       "      <th></th>\n",
       "      <th>id</th>\n",
       "      <th>Computer Science</th>\n",
       "      <th>Mathematics</th>\n",
       "      <th>Physics</th>\n",
       "      <th>Statistics</th>\n",
       "      <th>cleaned_text</th>\n",
       "      <th>label</th>\n",
       "    </tr>\n",
       "  </thead>\n",
       "  <tbody>\n",
       "    <tr>\n",
       "      <th>0</th>\n",
       "      <td>1824</td>\n",
       "      <td>0</td>\n",
       "      <td>0</td>\n",
       "      <td>1</td>\n",
       "      <td>0</td>\n",
       "      <td>evergrowing datasets inside observational astr...</td>\n",
       "      <td>Physics</td>\n",
       "    </tr>\n",
       "    <tr>\n",
       "      <th>1</th>\n",
       "      <td>3094</td>\n",
       "      <td>1</td>\n",
       "      <td>0</td>\n",
       "      <td>0</td>\n",
       "      <td>0</td>\n",
       "      <td>propose framework consider optimal tmatchings ...</td>\n",
       "      <td>Computer Science</td>\n",
       "    </tr>\n",
       "    <tr>\n",
       "      <th>2</th>\n",
       "      <td>8463</td>\n",
       "      <td>0</td>\n",
       "      <td>0</td>\n",
       "      <td>1</td>\n",
       "      <td>0</td>\n",
       "      <td>nanostructures open shell transition metal mol...</td>\n",
       "      <td>Physics</td>\n",
       "    </tr>\n",
       "    <tr>\n",
       "      <th>3</th>\n",
       "      <td>2082</td>\n",
       "      <td>0</td>\n",
       "      <td>0</td>\n",
       "      <td>1</td>\n",
       "      <td>0</td>\n",
       "      <td>star selfgravitating fluid inside pressure buo...</td>\n",
       "      <td>Physics</td>\n",
       "    </tr>\n",
       "    <tr>\n",
       "      <th>4</th>\n",
       "      <td>8687</td>\n",
       "      <td>1</td>\n",
       "      <td>0</td>\n",
       "      <td>0</td>\n",
       "      <td>0</td>\n",
       "      <td>deep neural perception control network likely ...</td>\n",
       "      <td>Computer Science</td>\n",
       "    </tr>\n",
       "  </tbody>\n",
       "</table>\n",
       "</div>"
      ],
      "text/plain": [
       "     id  Computer Science  Mathematics  Physics  Statistics  \\\n",
       "0  1824                 0            0        1           0   \n",
       "1  3094                 1            0        0           0   \n",
       "2  8463                 0            0        1           0   \n",
       "3  2082                 0            0        1           0   \n",
       "4  8687                 1            0        0           0   \n",
       "\n",
       "                                        cleaned_text             label  \n",
       "0  evergrowing datasets inside observational astr...           Physics  \n",
       "1  propose framework consider optimal tmatchings ...  Computer Science  \n",
       "2  nanostructures open shell transition metal mol...           Physics  \n",
       "3  star selfgravitating fluid inside pressure buo...           Physics  \n",
       "4  deep neural perception control network likely ...  Computer Science  "
      ]
     },
     "execution_count": 9,
     "metadata": {},
     "output_type": "execute_result"
    }
   ],
   "source": [
    "train.loc[(train['Computer Science']==1)\n",
    "               , 'label'] = 'Computer Science'\n",
    "\n",
    "train.loc[(train['Mathematics']==1)\n",
    "               , 'label'] = 'Mathematics'\n",
    "\n",
    "\n",
    "train.loc[(train['Physics']==1)\n",
    "               , 'label'] = 'Physics'\n",
    "               \n",
    "train.loc[(train['Statistics']==1)\n",
    "               , 'label'] = 'Statistics'  \n",
    "\n",
    "train.head()"
   ]
  },
  {
   "cell_type": "code",
   "execution_count": 10,
   "id": "GP1OUBVv0ZFn",
   "metadata": {
    "id": "GP1OUBVv0ZFn"
   },
   "outputs": [
    {
     "name": "stdout",
     "output_type": "stream",
     "text": [
      "<class 'pandas.core.frame.DataFrame'>\n",
      "RangeIndex: 14004 entries, 0 to 14003\n",
      "Data columns (total 7 columns):\n",
      " #   Column            Non-Null Count  Dtype \n",
      "---  ------            --------------  ----- \n",
      " 0   id                14004 non-null  int64 \n",
      " 1   Computer Science  14004 non-null  int64 \n",
      " 2   Mathematics       14004 non-null  int64 \n",
      " 3   Physics           14004 non-null  int64 \n",
      " 4   Statistics        14004 non-null  int64 \n",
      " 5   cleaned_text      14004 non-null  object\n",
      " 6   label             14004 non-null  int64 \n",
      "dtypes: int64(6), object(1)\n",
      "memory usage: 766.0+ KB\n",
      "None\n"
     ]
    },
    {
     "data": {
      "text/html": [
       "<div>\n",
       "<style scoped>\n",
       "    .dataframe tbody tr th:only-of-type {\n",
       "        vertical-align: middle;\n",
       "    }\n",
       "\n",
       "    .dataframe tbody tr th {\n",
       "        vertical-align: top;\n",
       "    }\n",
       "\n",
       "    .dataframe thead th {\n",
       "        text-align: right;\n",
       "    }\n",
       "</style>\n",
       "<table border=\"1\" class=\"dataframe\">\n",
       "  <thead>\n",
       "    <tr style=\"text-align: right;\">\n",
       "      <th></th>\n",
       "      <th>id</th>\n",
       "      <th>Computer Science</th>\n",
       "      <th>Mathematics</th>\n",
       "      <th>Physics</th>\n",
       "      <th>Statistics</th>\n",
       "      <th>cleaned_text</th>\n",
       "      <th>label</th>\n",
       "    </tr>\n",
       "  </thead>\n",
       "  <tbody>\n",
       "    <tr>\n",
       "      <th>0</th>\n",
       "      <td>1824</td>\n",
       "      <td>0</td>\n",
       "      <td>0</td>\n",
       "      <td>1</td>\n",
       "      <td>0</td>\n",
       "      <td>evergrowing datasets inside observational astr...</td>\n",
       "      <td>2</td>\n",
       "    </tr>\n",
       "    <tr>\n",
       "      <th>1</th>\n",
       "      <td>3094</td>\n",
       "      <td>1</td>\n",
       "      <td>0</td>\n",
       "      <td>0</td>\n",
       "      <td>0</td>\n",
       "      <td>propose framework consider optimal tmatchings ...</td>\n",
       "      <td>0</td>\n",
       "    </tr>\n",
       "    <tr>\n",
       "      <th>2</th>\n",
       "      <td>8463</td>\n",
       "      <td>0</td>\n",
       "      <td>0</td>\n",
       "      <td>1</td>\n",
       "      <td>0</td>\n",
       "      <td>nanostructures open shell transition metal mol...</td>\n",
       "      <td>2</td>\n",
       "    </tr>\n",
       "    <tr>\n",
       "      <th>3</th>\n",
       "      <td>2082</td>\n",
       "      <td>0</td>\n",
       "      <td>0</td>\n",
       "      <td>1</td>\n",
       "      <td>0</td>\n",
       "      <td>star selfgravitating fluid inside pressure buo...</td>\n",
       "      <td>2</td>\n",
       "    </tr>\n",
       "    <tr>\n",
       "      <th>4</th>\n",
       "      <td>8687</td>\n",
       "      <td>1</td>\n",
       "      <td>0</td>\n",
       "      <td>0</td>\n",
       "      <td>0</td>\n",
       "      <td>deep neural perception control network likely ...</td>\n",
       "      <td>0</td>\n",
       "    </tr>\n",
       "  </tbody>\n",
       "</table>\n",
       "</div>"
      ],
      "text/plain": [
       "     id  Computer Science  Mathematics  Physics  Statistics  \\\n",
       "0  1824                 0            0        1           0   \n",
       "1  3094                 1            0        0           0   \n",
       "2  8463                 0            0        1           0   \n",
       "3  2082                 0            0        1           0   \n",
       "4  8687                 1            0        0           0   \n",
       "\n",
       "                                        cleaned_text  label  \n",
       "0  evergrowing datasets inside observational astr...      2  \n",
       "1  propose framework consider optimal tmatchings ...      0  \n",
       "2  nanostructures open shell transition metal mol...      2  \n",
       "3  star selfgravitating fluid inside pressure buo...      2  \n",
       "4  deep neural perception control network likely ...      0  "
      ]
     },
     "execution_count": 10,
     "metadata": {},
     "output_type": "execute_result"
    }
   ],
   "source": [
    "train.label = train.label.map({'Computer Science': 0, 'Mathematics' : 1, 'Physics': 2, 'Statistics' : 3, })\n",
    "print(train.info())\n",
    "train.head()"
   ]
  },
  {
   "cell_type": "code",
   "execution_count": 11,
   "id": "3CC4I9vh1Tti",
   "metadata": {
    "id": "3CC4I9vh1Tti"
   },
   "outputs": [
    {
     "data": {
      "text/html": [
       "<div>\n",
       "<style scoped>\n",
       "    .dataframe tbody tr th:only-of-type {\n",
       "        vertical-align: middle;\n",
       "    }\n",
       "\n",
       "    .dataframe tbody tr th {\n",
       "        vertical-align: top;\n",
       "    }\n",
       "\n",
       "    .dataframe thead th {\n",
       "        text-align: right;\n",
       "    }\n",
       "</style>\n",
       "<table border=\"1\" class=\"dataframe\">\n",
       "  <thead>\n",
       "    <tr style=\"text-align: right;\">\n",
       "      <th></th>\n",
       "      <th>cleaned_text</th>\n",
       "      <th>label</th>\n",
       "    </tr>\n",
       "  </thead>\n",
       "  <tbody>\n",
       "    <tr>\n",
       "      <th>0</th>\n",
       "      <td>evergrowing datasets inside observational astr...</td>\n",
       "      <td>2</td>\n",
       "    </tr>\n",
       "    <tr>\n",
       "      <th>1</th>\n",
       "      <td>propose framework consider optimal tmatchings ...</td>\n",
       "      <td>0</td>\n",
       "    </tr>\n",
       "    <tr>\n",
       "      <th>2</th>\n",
       "      <td>nanostructures open shell transition metal mol...</td>\n",
       "      <td>2</td>\n",
       "    </tr>\n",
       "    <tr>\n",
       "      <th>3</th>\n",
       "      <td>star selfgravitating fluid inside pressure buo...</td>\n",
       "      <td>2</td>\n",
       "    </tr>\n",
       "    <tr>\n",
       "      <th>4</th>\n",
       "      <td>deep neural perception control network likely ...</td>\n",
       "      <td>0</td>\n",
       "    </tr>\n",
       "  </tbody>\n",
       "</table>\n",
       "</div>"
      ],
      "text/plain": [
       "                                        cleaned_text  label\n",
       "0  evergrowing datasets inside observational astr...      2\n",
       "1  propose framework consider optimal tmatchings ...      0\n",
       "2  nanostructures open shell transition metal mol...      2\n",
       "3  star selfgravitating fluid inside pressure buo...      2\n",
       "4  deep neural perception control network likely ...      0"
      ]
     },
     "execution_count": 11,
     "metadata": {},
     "output_type": "execute_result"
    }
   ],
   "source": [
    "train = train.drop(['Computer Science',\t'Mathematics',\t'Physics',\t'Statistics', 'id'], axis = 1)\n",
    "train.head()"
   ]
  },
  {
   "cell_type": "code",
   "execution_count": 12,
   "id": "a95f3af2",
   "metadata": {
    "id": "a95f3af2"
   },
   "outputs": [],
   "source": [
    "def random_seed(seed_value):\n",
    "    import random \n",
    "    random.seed(seed_value)  \n",
    "    import numpy as np\n",
    "    np.random.seed(seed_value)  \n",
    "    import torch\n",
    "    torch.manual_seed(seed_value)  \n",
    "    \n",
    "    if torch.cuda.is_available(): \n",
    "        torch.cuda.manual_seed(seed_value)\n",
    "        torch.cuda.manual_seed_all(seed_value)  \n",
    "        torch.backends.cudnn.deterministic = True   \n",
    "        torch.backends.cudnn.benchmark = False"
   ]
  },
  {
   "cell_type": "code",
   "execution_count": null,
   "id": "21b4d6bd",
   "metadata": {
    "colab": {
     "base_uri": "https://localhost:8080/",
     "height": 1000
    },
    "executionInfo": {
     "elapsed": 8618428,
     "status": "ok",
     "timestamp": 1648597413879,
     "user": {
      "displayName": "Rezoanul Islam Antu",
      "userId": "06077613116027960312"
     },
     "user_tz": -360
    },
    "id": "21b4d6bd",
    "outputId": "f64a4645-2261-4459-c18a-327fe40f1fcd"
   },
   "outputs": [
    {
     "data": {
      "text/html": [
       "\n",
       "<style>\n",
       "    /* Turns off some styling */\n",
       "    progress {\n",
       "        /* gets rid of default border in Firefox and Opera. */\n",
       "        border: none;\n",
       "        /* Needs to be in here for Safari polyfill so background images work as expected. */\n",
       "        background-size: auto;\n",
       "    }\n",
       "    .progress-bar-interrupted, .progress-bar-interrupted::-webkit-progress-bar {\n",
       "        background: #F44336;\n",
       "    }\n",
       "</style>\n"
      ],
      "text/plain": [
       "<IPython.core.display.HTML object>"
      ]
     },
     "metadata": {},
     "output_type": "display_data"
    },
    {
     "data": {
      "text/html": [
       "\n",
       "    <div>\n",
       "      <progress value='0' class='' max='1' style='width:300px; height:20px; vertical-align: middle;'></progress>\n",
       "      0.00% [0/1 00:00<00:00]\n",
       "    </div>\n",
       "    "
      ],
      "text/plain": [
       "<IPython.core.display.HTML object>"
      ]
     },
     "metadata": {},
     "output_type": "display_data"
    }
   ],
   "source": [
    "from sklearn.metrics import accuracy_score \n",
    "y_pred_totcb = []\n",
    "from sklearn.model_selection import KFold, RepeatedKFold\n",
    "fold = KFold(n_splits=2, shuffle=True, random_state=0)\n",
    "i=1\n",
    "\n",
    "for train_index, test_index in fold.split(train):\n",
    "    \n",
    "    train_df = train.iloc[train_index]\n",
    "    valid_df = train.iloc[test_index]\n",
    "\n",
    "    random_seed(1)\n",
    "    \n",
    "    data_lm = TextLMDataBunch.from_df(Path('/data'), train_df, valid_df, test, text_cols=[0], bs=32)\n",
    "    data_clas = TextClasDataBunch.from_df(Path('/data'), train_df, valid_df, test, text_cols=[0], label_cols=1, bs=32)\n",
    "    \n",
    "    learn = language_model_learner(data_lm, AWD_LSTM, drop_mult=0.4, model_dir='models/')\n",
    "    learn.fit_one_cycle(1, 1e-2, moms=(0.8, 0.7))\n",
    "    learn.unfreeze()\n",
    "    learn.fit_one_cycle(9, 1e-3, moms=(0.8,0.7))\n",
    "    learn.save_encoder('model_enc')\n",
    "    \n",
    "    learn = text_classifier_learner(data_clas, AWD_LSTM, drop_mult=0.4, model_dir='models/')\n",
    "    learn.load_encoder('model_enc')\n",
    "    learn.fit_one_cycle(1, 1e-2, moms=(0.8, 0.7))\n",
    "    learn.freeze_to(-2)\n",
    "    learn.fit_one_cycle(1, slice(1e-2/(2.6**4),1e-2), moms=(0.8,0.7))\n",
    "    learn.freeze_to(-3)\n",
    "    learn.fit_one_cycle(1, slice(5e-3/(2.6**4),5e-3), moms=(0.8,0.7))\n",
    "    learn.unfreeze()\n",
    "    learn.fit_one_cycle(5, slice(1e-3/(2.6**4),1e-3), moms=(0.8,0.7))\n",
    "   \n",
    "    log_preds, test_labels = learn.get_preds(ds_type=DatasetType.Test, ordered=True)\n",
    "    preds = np.argmax(log_preds, 1)\n",
    "    y_pred_totcb.append(preds)\n",
    "    print(f'fold {i} completed')\n",
    "    i = i+1\n"
   ]
  },
  {
   "cell_type": "code",
   "execution_count": null,
   "id": "NU13JxXAiae5",
   "metadata": {
    "colab": {
     "base_uri": "https://localhost:8080/"
    },
    "executionInfo": {
     "elapsed": 19,
     "status": "ok",
     "timestamp": 1648597413882,
     "user": {
      "displayName": "Rezoanul Islam Antu",
      "userId": "06077613116027960312"
     },
     "user_tz": -360
    },
    "id": "NU13JxXAiae5",
    "outputId": "97d895d4-3800-4bb7-ed07-1b558cd41938"
   },
   "outputs": [],
   "source": [
    "y_pred_totcb[0]"
   ]
  },
  {
   "cell_type": "code",
   "execution_count": null,
   "id": "dc9557e1",
   "metadata": {
    "executionInfo": {
     "elapsed": 2,
     "status": "ok",
     "timestamp": 1648597414287,
     "user": {
      "displayName": "Rezoanul Islam Antu",
      "userId": "06077613116027960312"
     },
     "user_tz": -360
    },
    "id": "dc9557e1"
   },
   "outputs": [],
   "source": [
    "df = pd.DataFrame()\n",
    "for i in range(3):\n",
    "    col_name = 'SECTION_' + str(i)\n",
    "    df[col_name] =  y_pred_totcb[i]"
   ]
  },
  {
   "cell_type": "code",
   "execution_count": null,
   "id": "QAijzdRpgIi5",
   "metadata": {
    "colab": {
     "base_uri": "https://localhost:8080/",
     "height": 206
    },
    "executionInfo": {
     "elapsed": 1786,
     "status": "ok",
     "timestamp": 1648597416072,
     "user": {
      "displayName": "Rezoanul Islam Antu",
      "userId": "06077613116027960312"
     },
     "user_tz": -360
    },
    "id": "QAijzdRpgIi5",
    "outputId": "d1994561-660c-4c31-a8a2-b63534d83846"
   },
   "outputs": [],
   "source": [
    "sub = pd.DataFrame()\n",
    "sub['SECTION'] = df.mode(axis=1)[0]\n",
    "sub.tail()"
   ]
  },
  {
   "cell_type": "code",
   "execution_count": null,
   "id": "X0H1xJsfFO5b",
   "metadata": {
    "id": "X0H1xJsfFO5b"
   },
   "outputs": [],
   "source": [
    "sub.shape"
   ]
  },
  {
   "cell_type": "code",
   "execution_count": null,
   "id": "GhUeZ7bqFV8i",
   "metadata": {
    "id": "GhUeZ7bqFV8i"
   },
   "outputs": [],
   "source": []
  }
 ],
 "metadata": {
  "accelerator": "GPU",
  "colab": {
   "collapsed_sections": [],
   "name": "FASTAI.ipynb",
   "provenance": []
  },
  "kernelspec": {
   "display_name": "Python 3 (ipykernel)",
   "language": "python",
   "name": "python3"
  },
  "language_info": {
   "codemirror_mode": {
    "name": "ipython",
    "version": 3
   },
   "file_extension": ".py",
   "mimetype": "text/x-python",
   "name": "python",
   "nbconvert_exporter": "python",
   "pygments_lexer": "ipython3",
   "version": "3.9.7"
  }
 },
 "nbformat": 4,
 "nbformat_minor": 5
}
